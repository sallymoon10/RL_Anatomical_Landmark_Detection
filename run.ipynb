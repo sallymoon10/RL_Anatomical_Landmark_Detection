{
 "cells": [
  {
   "cell_type": "code",
   "execution_count": null,
   "metadata": {},
   "outputs": [],
   "source": [
    "# Create data module\n",
    "\n",
    "# Initialize pytorch lightening trainer\n",
    "\n",
    "# Train DQN model\n",
    "\n",
    "# View simulation"
   ]
  }
 ],
 "metadata": {
  "language_info": {
   "name": "python"
  },
  "orig_nbformat": 4
 },
 "nbformat": 4,
 "nbformat_minor": 2
}
